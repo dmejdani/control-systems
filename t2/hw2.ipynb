{
 "cells": [
  {
   "cell_type": "code",
   "execution_count": 2,
   "metadata": {},
   "outputs": [],
   "source": [
    "import sympy as sym"
   ]
  },
  {
   "cell_type": "code",
   "execution_count": 5,
   "metadata": {},
   "outputs": [],
   "source": [
    "G1, G2, H = sym.symbols('G1 G2 H')"
   ]
  },
  {
   "cell_type": "code",
   "execution_count": 6,
   "metadata": {},
   "outputs": [],
   "source": [
    "exp = (1+1/G1)*(G1*G2/(1+G2))/(1 + (G1*G2/(1+G2))*(1 + 1/G1 + (2+ 1/G1)*H))"
   ]
  },
  {
   "cell_type": "code",
   "execution_count": 7,
   "metadata": {},
   "outputs": [
    {
     "data": {
      "text/plain": [
       "G1*G2*(1 + 1/G1)/((G2 + 1)*(G1*G2*(H*(2 + 1/G1) + 1 + 1/G1)/(G2 + 1) + 1))"
      ]
     },
     "execution_count": 7,
     "metadata": {},
     "output_type": "execute_result"
    }
   ],
   "source": [
    "exp"
   ]
  },
  {
   "cell_type": "code",
   "execution_count": 8,
   "metadata": {},
   "outputs": [
    {
     "data": {
      "text/plain": [
       "G2*(G1 + 1)/(G2*(G1 + H*(2*G1 + 1) + 1) + G2 + 1)"
      ]
     },
     "execution_count": 8,
     "metadata": {},
     "output_type": "execute_result"
    }
   ],
   "source": [
    "exp.simplify()"
   ]
  },
  {
   "cell_type": "code",
   "execution_count": 11,
   "metadata": {},
   "outputs": [],
   "source": [
    "G1, G2, G3, G4, H = sym.symbols('G1 G2 G3 G4 H')"
   ]
  },
  {
   "cell_type": "code",
   "execution_count": 13,
   "metadata": {},
   "outputs": [],
   "source": [
    "exp2 = (G1 + G2 + G3)*(1 / (1-G2*G4)) / (1 + H*(G1 + G2 * G3)*(1 / (1 - G2*G4)))"
   ]
  },
  {
   "cell_type": "code",
   "execution_count": 14,
   "metadata": {},
   "outputs": [
    {
     "data": {
      "text/latex": [
       "$\\displaystyle \\frac{G_{1} + G_{2} + G_{3}}{\\left(- G_{2} G_{4} + 1\\right) \\left(\\frac{H \\left(G_{1} + G_{2} G_{3}\\right)}{- G_{2} G_{4} + 1} + 1\\right)}$"
      ],
      "text/plain": [
       "(G1 + G2 + G3)/((-G2*G4 + 1)*(H*(G1 + G2*G3)/(-G2*G4 + 1) + 1))"
      ]
     },
     "execution_count": 14,
     "metadata": {},
     "output_type": "execute_result"
    }
   ],
   "source": [
    "exp2"
   ]
  },
  {
   "cell_type": "code",
   "execution_count": 15,
   "metadata": {},
   "outputs": [
    {
     "data": {
      "text/latex": [
       "$\\displaystyle \\frac{G_{1} + G_{2} + G_{3}}{- G_{2} G_{4} + H \\left(G_{1} + G_{2} G_{3}\\right) + 1}$"
      ],
      "text/plain": [
       "(G1 + G2 + G3)/(-G2*G4 + H*(G1 + G2*G3) + 1)"
      ]
     },
     "execution_count": 15,
     "metadata": {},
     "output_type": "execute_result"
    }
   ],
   "source": [
    "exp2.simplify()"
   ]
  },
  {
   "cell_type": "markdown",
   "metadata": {},
   "source": [
    "# my solution for 5.2"
   ]
  },
  {
   "cell_type": "code",
   "execution_count": 1,
   "metadata": {},
   "outputs": [],
   "source": [
    "import sympy as sym"
   ]
  },
  {
   "cell_type": "code",
   "execution_count": 2,
   "metadata": {},
   "outputs": [],
   "source": [
    "sym.init_printing()\n",
    "G1, G2, H = sym.symbols('G1 G2 H')"
   ]
  },
  {
   "cell_type": "code",
   "execution_count": 16,
   "metadata": {},
   "outputs": [
    {
     "data": {
      "image/png": "[encoded data removed]",
      "text/latex": [
       "$$\\frac{G_{1} G_{2} \\left(1 + \\frac{1}{G_{1}}\\right)}{\\left(G_{2} + 1\\right) \\left(\\frac{G_{1} G_{2} \\left(H \\left(2 + \\frac{1}{G_{1}}\\right) + 1 + \\frac{1}{G_{1}}\\right)}{G_{2} + 1} + 1\\right)}$$"
      ],
      "text/plain": [
       "                    ⎛    1 ⎞              \n",
       "              G₁⋅G₂⋅⎜1 + ──⎟              \n",
       "                    ⎝    G₁⎠              \n",
       "──────────────────────────────────────────\n",
       "         ⎛      ⎛  ⎛    1 ⎞       1 ⎞    ⎞\n",
       "         ⎜G₁⋅G₂⋅⎜H⋅⎜2 + ──⎟ + 1 + ──⎟    ⎟\n",
       "         ⎜      ⎝  ⎝    G₁⎠       G₁⎠    ⎟\n",
       "(G₂ + 1)⋅⎜─────────────────────────── + 1⎟\n",
       "         ⎝           G₂ + 1              ⎠"
      ]
     },
     "execution_count": 16,
     "metadata": {},
     "output_type": "execute_result"
    }
   ],
   "source": [
    "T = (1+1/G1) * (G1*G2 / (1+G2)) * (1 / (1 + (1 + 1/G1 + (2 + 1/G1)*H) * (G1*G2 / (1+G2))))\n",
    "T"
   ]
  },
  {
   "cell_type": "code",
   "execution_count": 18,
   "metadata": {},
   "outputs": [
    {
     "data": {
      "image/png": "[encoded data removed]",
      "text/latex": [
       "$$\\frac{G_{2} \\left(G_{1} + 1\\right)}{G_{2} \\left(G_{1} + H \\left(2 G_{1} + 1\\right) + 1\\right) + G_{2} + 1}$$"
      ],
      "text/plain": [
       "            G₂⋅(G₁ + 1)            \n",
       "───────────────────────────────────\n",
       "G₂⋅(G₁ + H⋅(2⋅G₁ + 1) + 1) + G₂ + 1"
      ]
     },
     "execution_count": 18,
     "metadata": {},
     "output_type": "execute_result"
    }
   ],
   "source": [
    "T.simplify()"
   ]
  },
  {
   "cell_type": "markdown",
   "metadata": {},
   "source": [
    "# second problem"
   ]
  },
  {
   "cell_type": "code",
   "execution_count": 24,
   "metadata": {},
   "outputs": [],
   "source": [
    "G1, G2, G3, G4, H = sym.symbols('G1 G2 G3 G4 H')"
   ]
  },
  {
   "cell_type": "code",
   "execution_count": 28,
   "metadata": {},
   "outputs": [
    {
     "data": {
      "image/png": "[encoded data removed]",
      "text/latex": [
       "$$\\frac{G_{1} G_{2} + G_{3}}{\\left(G_{2} G_{4} + 1\\right) \\left(\\frac{H \\left(G_{1} G_{2} + G_{3}\\right)}{G_{2} G_{4} + 1} + 1\\right)}$$"
      ],
      "text/plain": [
       "           G₁⋅G₂ + G₃           \n",
       "────────────────────────────────\n",
       "            ⎛H⋅(G₁⋅G₂ + G₃)    ⎞\n",
       "(G₂⋅G₄ + 1)⋅⎜────────────── + 1⎟\n",
       "            ⎝  G₂⋅G₄ + 1       ⎠"
      ]
     },
     "execution_count": 28,
     "metadata": {},
     "output_type": "execute_result"
    }
   ],
   "source": [
    "solution = ((G1*G2 + G3) / (1 + G2*G4)) / (1 + (G1*G2 + G3) * H / (1 + G2* G4) )\n",
    "solution"
   ]
  },
  {
   "cell_type": "code",
   "execution_count": 29,
   "metadata": {},
   "outputs": [
    {
     "data": {
      "image/png": "[encoded data removed]",
      "text/latex": [
       "$$\\frac{G_{1} G_{2} + G_{3}}{G_{2} G_{4} + H \\left(G_{1} G_{2} + G_{3}\\right) + 1}$$"
      ],
      "text/plain": [
       "        G₁⋅G₂ + G₃        \n",
       "──────────────────────────\n",
       "G₂⋅G₄ + H⋅(G₁⋅G₂ + G₃) + 1"
      ]
     },
     "execution_count": 29,
     "metadata": {},
     "output_type": "execute_result"
    }
   ],
   "source": [
    "solution.simplify()"
   ]
  },
  {
   "cell_type": "markdown",
   "metadata": {},
   "source": [
    "# third problem"
   ]
  },
  {
   "cell_type": "code",
   "execution_count": 41,
   "metadata": {},
   "outputs": [
    {
     "data": {
      "image/png": "[encoded data removed]",
      "text/latex": [
       "$$0.455949810769126$$"
      ],
      "text/plain": [
       "0.455949810769126"
      ]
     },
     "execution_count": 41,
     "metadata": {},
     "output_type": "execute_result"
    }
   ],
   "source": [
    "eps = - sym.ln(.2) / sym.sqrt(sym.pi ** 2 + sym.ln(.2) ** 2)\n",
    "eps.evalf()"
   ]
  },
  {
   "cell_type": "code",
   "execution_count": 42,
   "metadata": {},
   "outputs": [
    {
     "data": {
      "image/png": "[encoded data removed]",
      "text/latex": [
       "$$32.8983577703366$$"
      ],
      "text/plain": [
       "32.8983577703366"
      ]
     },
     "execution_count": 42,
     "metadata": {},
     "output_type": "execute_result"
    }
   ],
   "source": [
    "w_n = 30 / (2*eps)\n",
    "w_n.evalf()"
   ]
  },
  {
   "cell_type": "code",
   "execution_count": 45,
   "metadata": {},
   "outputs": [
    {
     "data": {
      "image/png": "[encoded data removed]",
      "text/latex": [
       "$$1082.30194398507$$"
      ],
      "text/plain": [
       "1082.30194398507"
      ]
     },
     "execution_count": 45,
     "metadata": {},
     "output_type": "execute_result"
    }
   ],
   "source": [
    "K = w_n**2\n",
    "K.evalf()"
   ]
  },
  {
   "cell_type": "markdown",
   "metadata": {},
   "source": [
    "# 5th "
   ]
  },
  {
   "cell_type": "code",
   "execution_count": 46,
   "metadata": {},
   "outputs": [],
   "source": [
    "w_n = 4.5594\n",
    "K = w_n*+2"
   ]
  },
  {
   "cell_type": "code",
   "execution_count": 47,
   "metadata": {},
   "outputs": [
    {
     "data": {
      "image/png": "[encoded data removed]",
      "text/latex": [
       "$$9.1188$$"
      ],
      "text/plain": [
       "9.1188"
      ]
     },
     "execution_count": 47,
     "metadata": {},
     "output_type": "execute_result"
    }
   ],
   "source": [
    "K"
   ]
  },
  {
   "cell_type": "code",
   "execution_count": 50,
   "metadata": {},
   "outputs": [
    {
     "data": {
      "image/png": "[encoded data removed]",
      "text/latex": [
       "$$8.114637744$$"
      ],
      "text/plain": [
       "8.114637744"
      ]
     },
     "execution_count": 50,
     "metadata": {},
     "output_type": "execute_result"
    }
   ],
   "source": [
    "f_v = 2*4.5594*.44494\n",
    "f_v"
   ]
  },
  {
   "cell_type": "code",
   "execution_count": 54,
   "metadata": {},
   "outputs": [
    {
     "data": {
      "image/png": "[encoded data removed]",
      "text/latex": [
       "$$0.143142852201327$$"
      ],
      "text/plain": [
       "0.143142852201327"
      ]
     },
     "execution_count": 54,
     "metadata": {},
     "output_type": "execute_result"
    }
   ],
   "source": [
    "eps = - sym.ln(.3) / sym.sqrt(sym.pi ** 2 + sym.ln(.3) ** 2)\n",
    "eps.evalf()*2 / 5"
   ]
  },
  {
   "cell_type": "code",
   "execution_count": null,
   "metadata": {},
   "outputs": [],
   "source": []
  }
 ],
 "metadata": {
  "kernelspec": {
   "display_name": "Python 3",
   "language": "python",
   "name": "python3"
  },
  "language_info": {
   "codemirror_mode": {
    "name": "ipython",
    "version": 3
   },
   "file_extension": ".py",
   "mimetype": "text/x-python",
   "name": "python",
   "nbconvert_exporter": "python",
   "pygments_lexer": "ipython3",
   "version": "3.8.3"
  }
 },
 "nbformat": 4,
 "nbformat_minor": 4
}
