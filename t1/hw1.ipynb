{
 "cells": [
  {
   "cell_type": "markdown",
   "metadata": {},
   "source": [
    "# First Problem"
   ]
  },
  {
   "cell_type": "code",
   "execution_count": 1,
   "metadata": {},
   "outputs": [],
   "source": [
    "import sympy as sym"
   ]
  },
  {
   "cell_type": "code",
   "execution_count": 2,
   "metadata": {},
   "outputs": [],
   "source": [
    "s, V0, I1, I2, I3 = sym.symbols('s V0 I1 I2 I3')\n",
    "\n",
    "A = sym.Matrix([\n",
    "    [1+1/s, -1/s, 0],\n",
    "    [-1/s, 1+1/s+s, -s],\n",
    "    [0, -s, 1+s+1/s]\n",
    "])\n",
    "\n",
    "b = sym.Matrix([\n",
    "    [V0],\n",
    "    [0],\n",
    "    [0]\n",
    "])\n",
    "\n",
    "# The content of the solution vector\n",
    "# x = sym.Matrix([\n",
    "#     [I1],\n",
    "#     [I2],\n",
    "#     [I3]\n",
    "# ])"
   ]
  },
  {
   "cell_type": "code",
   "execution_count": 3,
   "metadata": {},
   "outputs": [],
   "source": [
    "x = A.LUsolve(b)"
   ]
  },
  {
   "cell_type": "code",
   "execution_count": 4,
   "metadata": {},
   "outputs": [
    {
     "data": {
      "text/latex": [
       "$\\displaystyle \\left[\\begin{matrix}\\frac{V_{0} \\left(2 s^{3} + 3 s^{2} + 2 s + 1\\right)}{2 s^{3} + 5 s^{2} + 4 s + 2}\\\\\\frac{V_{0} \\left(s^{2} + s + 1\\right)}{2 s^{3} + 5 s^{2} + 4 s + 2}\\\\\\frac{V_{0} s^{2}}{2 s^{3} + 5 s^{2} + 4 s + 2}\\end{matrix}\\right]$"
      ],
      "text/plain": [
       "Matrix([\n",
       "[V0*(2*s**3 + 3*s**2 + 2*s + 1)/(2*s**3 + 5*s**2 + 4*s + 2)],\n",
       "[             V0*(s**2 + s + 1)/(2*s**3 + 5*s**2 + 4*s + 2)],\n",
       "[                       V0*s**2/(2*s**3 + 5*s**2 + 4*s + 2)]])"
      ]
     },
     "execution_count": 4,
     "metadata": {},
     "output_type": "execute_result"
    }
   ],
   "source": [
    "x.simplify()\n",
    "x"
   ]
  },
  {
   "cell_type": "markdown",
   "metadata": {},
   "source": [
    "# Second problem"
   ]
  },
  {
   "cell_type": "code",
   "execution_count": 5,
   "metadata": {},
   "outputs": [
    {
     "data": {
      "text/latex": [
       "$\\displaystyle \\left[\\begin{matrix}\\frac{V_{0} \\left(s^{3} + 3 s^{2} + 3 s + 1\\right)}{2 s^{3} + s^{2} + 4 s + 1}\\\\\\frac{V_{0} \\left(s^{3} + 2 s + 1\\right)}{2 s^{3} + s^{2} + 4 s + 1}\\\\\\frac{V_{0} s \\left(s^{2} + s + 2\\right)}{2 s^{3} + s^{2} + 4 s + 1}\\end{matrix}\\right]$"
      ],
      "text/plain": [
       "Matrix([\n",
       "[V0*(s**3 + 3*s**2 + 3*s + 1)/(2*s**3 + s**2 + 4*s + 1)],\n",
       "[         V0*(s**3 + 2*s + 1)/(2*s**3 + s**2 + 4*s + 1)],\n",
       "[         V0*s*(s**2 + s + 2)/(2*s**3 + s**2 + 4*s + 1)]])"
      ]
     },
     "execution_count": 5,
     "metadata": {},
     "output_type": "execute_result"
    }
   ],
   "source": [
    "A = sym.Matrix([\n",
    "    [s+1/s, -1/s, -s],\n",
    "    [-s, -s, 1+2*s],\n",
    "    [-1/s, 1/s+s+1, -s]\n",
    "])\n",
    "\n",
    "b = sym.Matrix([\n",
    "    [V0],\n",
    "    [0],\n",
    "    [0]\n",
    "])\n",
    "\n",
    "x = A.LUsolve(b)\n",
    "x.simplify()\n",
    "x"
   ]
  }
 ],
 "metadata": {
  "kernelspec": {
   "display_name": "Python 3",
   "language": "python",
   "name": "python3"
  },
  "language_info": {
   "codemirror_mode": {
    "name": "ipython",
    "version": 3
   },
   "file_extension": ".py",
   "mimetype": "text/x-python",
   "name": "python",
   "nbconvert_exporter": "python",
   "pygments_lexer": "ipython3",
   "version": "3.8.3"
  }
 },
 "nbformat": 4,
 "nbformat_minor": 4
}
